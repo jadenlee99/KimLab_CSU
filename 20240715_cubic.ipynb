{
 "cells": [
  {
   "cell_type": "code",
   "execution_count": 1,
   "metadata": {},
   "outputs": [],
   "source": [
    "import pandas as pd\n",
    "import numpy as np\n",
    "from sklearn.preprocessing import PolynomialFeatures\n",
    "from sklearn.linear_model import LinearRegression\n",
    "from sklearn.metrics import r2_score\n",
    "from sklearn.metrics import mean_absolute_error as MAE\n",
    "import matplotlib.pyplot as plt\n",
    "import re\n",
    "\n",
    "# CSV 파일에서 데이터 로드\n",
    "file_path = '20240703_correlation_copy.csv'\n",
    "df = pd.read_csv(file_path)\n",
    "\n",
    "# 열 목록\n",
    "columns = df.columns\n",
    "\n",
    "# R^2 값을 저장할 행렬 초기화\n",
    "r2_matrix = pd.DataFrame(index=columns, columns=columns)\n",
    "\n",
    "# 각 열을 종속 변수로 지정\n",
    "for dependent_var in columns:\n",
    "    independent_vars = df.columns.difference([dependent_var])\n",
    "    \n",
    "    for var in independent_vars:\n",
    "        # 결측치 제거\n",
    "        valid_data = df[[var, dependent_var]].dropna()\n",
    "        \n",
    "        X = valid_data[[var]]\n",
    "        y = valid_data[dependent_var]\n",
    "        \n",
    "        if len(valid_data) > 0:  # 유효한 데이터가 있는지 확인\n",
    "            # 다항식 특징 변환기 생성 (차수 2로 설정)\n",
    "            poly = PolynomialFeatures(degree=3)\n",
    "            X_poly = poly.fit_transform(X)\n",
    "            \n",
    "            # 모델 훈련\n",
    "            model = LinearRegression()\n",
    "            model.fit(X_poly, y)\n",
    "            \n",
    "            # 예측\n",
    "            y_pred = model.predict(X_poly)\n",
    "            \n",
    "            # R^2 계산\n",
    "            r2 = r2_score(y, y_pred)\n",
    "            r2_matrix.loc[var, dependent_var] = r2\n",
    "\n",
    "        else:\n",
    "            r2_matrix.loc[var, dependent_var] = np.nan  # 유효한 데이터가 없으면 NaN으로 설정\n",
    "\n",
    "# r2_matrix를 CSV 파일로 저장\n",
    "output_file_path = '20240715_cubic_r2.csv'  # 저장할 파일 경로\n",
    "r2_matrix.to_csv(output_file_path)\n",
    "\n",
    "# R^2 값이 0.9 이상인 모델 찾기\n",
    "high_r2_models = r2_matrix[r2_matrix >= 0.90].stack().reset_index()\n",
    "high_r2_models.columns = ['Independent_Var', 'Dependent_Var', 'R2']\n"
   ]
  },
  {
   "cell_type": "code",
   "execution_count": 3,
   "metadata": {},
   "outputs": [
    {
     "data": {
      "text/plain": [
       "<matplotlib.collections.PathCollection at 0x14e4d6810>"
      ]
     },
     "execution_count": 3,
     "metadata": {},
     "output_type": "execute_result"
    },
    {
     "data": {
      "image/png": "[encoded data removed]",
      "text/plain": [
       "<Figure size 640x480 with 1 Axes>"
      ]
     },
     "metadata": {},
     "output_type": "display_data"
    }
   ],
   "source": [
    "# 첫 번째 모델에 대해 CSV 파일과 그래프 저장\n",
    "row = high_r2_models.iloc[5]\n",
    "independent_var = row['Independent_Var']\n",
    "dependent_var = row['Dependent_Var']\n",
    "r2 = row['R2']\n",
    "\n",
    "# 결측치 제거\n",
    "valid_data = df[[independent_var, dependent_var]].dropna()\n",
    "\n",
    "X = valid_data[[independent_var]]\n",
    "y = valid_data[dependent_var]\n",
    "\n",
    "# 다항식 특징 변환기 생성 (차수 2로 설정)\n",
    "poly = PolynomialFeatures(degree=3)\n",
    "X_poly = poly.fit_transform(X)\n",
    "\n",
    "plt.scatter(X, y)"
   ]
  },
  {
   "cell_type": "code",
   "execution_count": 6,
   "metadata": {},
   "outputs": [
    {
     "name": "stdout",
     "output_type": "stream",
     "text": [
      "다항식 계수: [ 0.          0.4490435   0.48662068 -0.12804229]\n",
      "절편: 0.6503660595178253\n"
     ]
    }
   ],
   "source": [
    "# 모델 학습 및 예측\n",
    "model = LinearRegression()\n",
    "model.fit(X_poly, y)\n",
    "\n",
    "# 계수와 절편 출력\n",
    "print(\"다항식 계수:\", model.coef_)\n",
    "print(\"절편:\", model.intercept_)\n",
    "\n",
    "X_fit = np.arange(0.7, 2.5, 0.01)[:, np.newaxis]\n",
    "y_pred = model.predict(poly.fit_transform(X_fit))\n",
    "\n",
    "# 그래프 생성\n",
    "plt.figure()\n",
    "plt.plot(X_fit, y_pred, 'b-', lw=2)\n",
    "plt.scatter(X, y, color='red', alpha=0.5)\n",
    "plt.xlabel(f'{independent_var}')\n",
    "plt.ylabel(f'{dependent_var}')\n",
    "plt.title(f'Cubic Correlation: {independent_var}__{dependent_var}')\n",
    "\n",
    "# 다항식 계수를 이용하여 수식 생성\n",
    "intercept = model.intercept_\n",
    "coef = model.coef_\n",
    "\n",
    "# LaTeX 수식 생성\n",
    "equation = f'$y = {intercept:.2f} + {coef[1]:.2f}x + {coef[2]:.2f}x^2 {coef[3]:.2f}x^3$'\n",
    "\n",
    "# 수식을 그래프에 추가\n",
    "plt.text(x=0.05, y=0.90, s=equation, fontsize=12, ha='left', va='top', transform=plt.gca().transAxes)\n",
    "\n",
    "# R^2, MAE 값 그래프에 추가\n",
    "plt.text(x=0.05, y=0.95, s=f'$R^2 = {r2:.4f}$', fontsize=12, ha='left', va='top', transform=plt.gca().transAxes)\n",
    "\n",
    "# 파일 이름에서 유효하지 않은 문자 제거\n",
    "def sanitize_filename(filename):\n",
    "    return re.sub(r'[\\\\/*?:\"<>|]', \"_\", filename)\n",
    "\n",
    "# 그래프 이미지 파일로 저장\n",
    "img_filename = sanitize_filename(f'Cubic Correlation between {independent_var}__{dependent_var}.png')\n",
    "plt.savefig(img_filename)\n",
    "plt.close()\n"
   ]
  },
  {
   "cell_type": "code",
   "execution_count": 7,
   "metadata": {},
   "outputs": [
    {
     "name": "stdout",
     "output_type": "stream",
     "text": [
      "MAE: 2.1796061955708774 (kcal/mol)\n"
     ]
    }
   ],
   "source": [
    "# 모델 예측\n",
    "y_pred = model.predict(X_poly)\n",
    "\n",
    "# Convert it to kcal/mole\n",
    "mae = MAE(y, y_pred)*23.06\n",
    "print(f'MAE: {mae} (kcal/mol)')\n",
    "\n",
    "# 실제 값과 예측치 저장\n",
    "result_df = pd.DataFrame({\n",
    "    'Real': y,\n",
    "    'Predict': y_pred\n",
    "})\n",
    "\n",
    "csv_filename = sanitize_filename(f'{independent_var}__{dependent_var}.csv')\n",
    "result_df.to_csv(csv_filename, index=False)\n",
    "\n",
    "# 그래프 생성\n",
    "plt.figure()\n",
    "plt.plot([y.min(), y.max()], [y.min(), y.max()], 'k-', lw=2)\n",
    "plt.scatter(y, y_pred, color='red', alpha=0.5)\n",
    "plt.xlabel(f'Actual values of {dependent_var}')\n",
    "plt.ylabel(f'Predicted values of {dependent_var}')\n",
    "plt.title(f'Model: {independent_var}__{dependent_var}')\n",
    "\n",
    "# R^2 값 그래프에 추가\n",
    "plt.text(x=0.05, y=0.95, s=f'$R^2 = {r2:.4f}$', fontsize=12, ha='left', va='top', transform=plt.gca().transAxes)\n",
    "plt.text(x=0.05, y=0.90, s=f'MAE = {mae:.4f} (kcal/mol)', fontsize=12, ha='left', va='top', transform=plt.gca().transAxes)\n",
    "\n",
    "# 그래프 이미지 파일로 저장\n",
    "img_filename = sanitize_filename(f'{independent_var}__{dependent_var}.png')\n",
    "plt.savefig(img_filename)\n",
    "plt.close()"
   ]
  }
 ],
 "metadata": {
  "kernelspec": {
   "display_name": "base",
   "language": "python",
   "name": "python3"
  },
  "language_info": {
   "codemirror_mode": {
    "name": "ipython",
    "version": 3
   },
   "file_extension": ".py",
   "mimetype": "text/x-python",
   "name": "python",
   "nbconvert_exporter": "python",
   "pygments_lexer": "ipython3",
   "version": "3.12.4"
  }
 },
 "nbformat": 4,
 "nbformat_minor": 2
}
