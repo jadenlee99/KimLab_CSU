{
 "cells": [
  {
   "cell_type": "code",
   "execution_count": 1,
   "metadata": {},
   "outputs": [],
   "source": [
    "import pandas as pd\n",
    "import numpy as np\n",
    "from sklearn.preprocessing import PolynomialFeatures\n",
    "from sklearn.linear_model import LinearRegression\n",
    "from sklearn.metrics import r2_score\n",
    "from sklearn.metrics import mean_absolute_error as MAE\n",
    "import matplotlib.pyplot as plt\n",
    "import re\n",
    "\n",
    "# CSV 파일에서 데이터 로드\n",
    "file_path = '20240703_correlation_copy.csv'\n",
    "df = pd.read_csv(file_path)\n",
    "\n",
    "# 열 목록\n",
    "columns = df.columns\n",
    "\n",
    "# R^2 값을 저장할 행렬 초기화\n",
    "r2_matrix = pd.DataFrame(index=columns, columns=columns)\n",
    "\n",
    "# 각 열을 종속 변수로 지정\n",
    "for dependent_var in columns:\n",
    "    independent_vars = df.columns.difference([dependent_var])\n",
    "    \n",
    "    for var in independent_vars:\n",
    "        # 결측치 제거\n",
    "        valid_data = df[[var, dependent_var]].dropna()\n",
    "        \n",
    "        X = valid_data[[var]]\n",
    "        y = valid_data[dependent_var]\n",
    "        \n",
    "        if len(valid_data) > 0:  # 유효한 데이터가 있는지 확인\n",
    "            # 다항식 특징 변환기 생성 (차수 2로 설정)\n",
    "            poly = PolynomialFeatures(degree=3)\n",
    "            X_poly = poly.fit_transform(X)\n",
    "            \n",
    "            # 모델 훈련\n",
    "            model = LinearRegression()\n",
    "            model.fit(X_poly, y)\n",
    "            \n",
    "            # 예측\n",
    "            y_pred = model.predict(X_poly)\n",
    "            \n",
    "            # R^2 계산\n",
    "            r2 = r2_score(y, y_pred)\n",
    "            r2_matrix.loc[var, dependent_var] = r2\n",
    "\n",
    "        else:\n",
    "            r2_matrix.loc[var, dependent_var] = np.nan  # 유효한 데이터가 없으면 NaN으로 설정\n",
    "\n",
    "# r2_matrix를 CSV 파일로 저장\n",
    "output_file_path = '20240715_cubic_r2.csv'  # 저장할 파일 경로\n",
    "r2_matrix.to_csv(output_file_path)\n",
    "\n",
    "# R^2 값이 0.9 이상인 모델 찾기\n",
    "high_r2_models = r2_matrix[r2_matrix >= 0.90].stack().reset_index()\n",
    "high_r2_models.columns = ['Independent_Var', 'Dependent_Var', 'R2']\n"
   ]
  }
 ],
 "metadata": {
  "kernelspec": {
   "display_name": "base",
   "language": "python",
   "name": "python3"
  },
  "language_info": {
   "codemirror_mode": {
    "name": "ipython",
    "version": 3
   },
   "file_extension": ".py",
   "mimetype": "text/x-python",
   "name": "python",
   "nbconvert_exporter": "python",
   "pygments_lexer": "ipython3",
   "version": "3.12.4"
  }
 },
 "nbformat": 4,
 "nbformat_minor": 2
}
