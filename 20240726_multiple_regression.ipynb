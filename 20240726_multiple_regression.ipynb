{
 "cells": [
  {
   "cell_type": "code",
   "execution_count": 1,
   "metadata": {},
   "outputs": [],
   "source": [
    "import pandas as pd\n",
    "import numpy as np\n",
    "from sklearn.linear_model import LinearRegression\n",
    "from sklearn.metrics import r2_score\n",
    "from sklearn.metrics import mean_absolute_error as MAE\n",
    "from sklearn.metrics import mean_squared_error as MSE\n",
    "import matplotlib.pyplot as plt\n",
    "import re\n",
    "\n",
    "# CSV 파일에서 데이터 로드\n",
    "file_path = '20240703_correlation_copy.csv'\n",
    "df = pd.read_csv(file_path)"
   ]
  },
  {
   "cell_type": "code",
   "execution_count": 2,
   "metadata": {},
   "outputs": [
    {
     "ename": "NameError",
     "evalue": "name 'independent_var' is not defined",
     "output_type": "error",
     "traceback": [
      "\u001b[0;31m---------------------------------------------------------------------------\u001b[0m",
      "\u001b[0;31mNameError\u001b[0m                                 Traceback (most recent call last)",
      "Cell \u001b[0;32mIn[2], line 3\u001b[0m\n\u001b[1;32m      1\u001b[0m valid_data \u001b[38;5;241m=\u001b[39m df\u001b[38;5;241m.\u001b[39mdropna()\n\u001b[0;32m----> 3\u001b[0m X \u001b[38;5;241m=\u001b[39m valid_data[[independent_var]]\n\u001b[1;32m      4\u001b[0m y \u001b[38;5;241m=\u001b[39m valid_data[dependent_var]\n\u001b[1;32m      6\u001b[0m std_dev \u001b[38;5;241m=\u001b[39m y\u001b[38;5;241m.\u001b[39mstd(ddof\u001b[38;5;241m=\u001b[39m\u001b[38;5;241m0\u001b[39m)\n",
      "\u001b[0;31mNameError\u001b[0m: name 'independent_var' is not defined"
     ]
    }
   ],
   "source": [
    "valid_data = df.dropna()\n",
    "\n",
    "y = df['adiabatic_S1-S0 (kcal/mol)']\n",
    "X = df.columns.difference([y])\n",
    "\n",
    "std_dev = y.std(ddof=0)\n",
    "std_dev2 = y.std(ddof=0)*23.06\n",
    "print(std_dev)\n",
    "\n",
    "model = LinearRegression()\n",
    "model.fit(X, y)\n",
    "\n",
    "y_pred = model.predict(X)\n",
    "\n",
    "mae = MAE(y, y_pred)\n",
    "mae2 = MAE(y, y_pred)*23.06\n",
    "rmse = np.sqrt(MSE(y, y_pred))\n",
    "rmse2 = np.sqrt(MSE(y, y_pred))*23.06\n",
    "\n",
    "# 실제 값과 예측치 저장\n",
    "result_df = pd.DataFrame({\n",
    "    'Real': y,\n",
    "    'Predict': y_pred\n",
    "})\n",
    "\n",
    "# 파일 이름에서 유효하지 않은 문자 제거\n",
    "def sanitize_filename(filename):\n",
    "    return re.sub(r'[\\\\/*?:\"<>|]', \"_\", filename)\n",
    "\n",
    "csv_filename = sanitize_filename(f'{independent_var}__{dependent_var}.csv')\n",
    "result_df.to_csv(csv_filename, index=False)\n",
    "\n",
    "\n",
    "# 그래프 생성\n",
    "plt.figure()\n",
    "plt.plot([y.min(), y.max()], [y.min(), y.max()], 'k-', lw=2)\n",
    "plt.scatter(y, y_pred, color = 'red', alpha=0.5)\n",
    "plt.xlabel(f'Actual values of {dependent_var}')\n",
    "plt.ylabel(f'Predicted values of {dependent_var}')\n",
    "plt.title(f'Model: {independent_var}__{dependent_var}')\n",
    "\n",
    "# R^2 값 그래프에 추가\n",
    "plt.text(x=0.05, y=0.95, s=f'$R^2 = {r2:.4f}$', fontsize=12, ha='left', va='top', transform=plt.gca().transAxes)\n",
    "plt.text(x=0.05, y=0.90, s=f'MAE = {mae:.4f} (kcal/mol)', fontsize=12, ha='left', va='top', transform=plt.gca().transAxes)\n",
    "plt.text(x=0.05, y=0.85, s=f'RMSE = {rmse:.4f} (kcal/mol)', fontsize=12, ha='left', va='top', transform=plt.gca().transAxes)\n",
    "\n",
    "# 그래프 이미지 파일로 저장\n",
    "img_filename = sanitize_filename(f'{independent_var}__{dependent_var}.png')\n",
    "plt.savefig(img_filename)\n",
    "plt.close()\n"
   ]
  },
  {
   "cell_type": "code",
   "execution_count": 21,
   "metadata": {},
   "outputs": [
    {
     "name": "stdout",
     "output_type": "stream",
     "text": [
      "9.647570414787422\n"
     ]
    }
   ],
   "source": [
    "# 첫 번째 모델에 대해 CSV 파일과 그래프 저장\n",
    "row = high_r2_models.iloc[8]\n",
    "independent_var = row['Independent_Var']\n",
    "dependent_var = row['Dependent_Var']\n",
    "r2 = row['R2']\n",
    "\n",
    "# 결측치 제거\n",
    "valid_data = df[[independent_var, dependent_var]].dropna()\n",
    "\n",
    "X = valid_data[[independent_var]]\n",
    "y = valid_data[dependent_var]\n",
    "\n",
    "std_dev = y.std(ddof=0)\n",
    "std_dev2 = y.std(ddof=0)*23.06\n",
    "print(std_dev2)\n",
    "\n",
    "# 모델 학습 및 예측\n",
    "model = LinearRegression()\n",
    "model.fit(X, y)\n",
    "y_pred = model.predict(X)\n",
    "\n",
    "mae = MAE(y, y_pred)\n",
    "mae2 = MAE(y, y_pred)*23.06\n",
    "rmse = np.sqrt(MSE(y, y_pred))\n",
    "rmse2 = np.sqrt(MSE(y, y_pred))*23.06\n",
    "\n",
    "# 실제 값과 예측치 저장\n",
    "result_df = pd.DataFrame({\n",
    "    'Real': y,\n",
    "    'Predict': y_pred\n",
    "})\n",
    "\n",
    "# 파일 이름에서 유효하지 않은 문자 제거\n",
    "def sanitize_filename(filename):\n",
    "    return re.sub(r'[\\\\/*?:\"<>|]', \"_\", filename)\n",
    "\n",
    "csv_filename = sanitize_filename(f'{independent_var}__{dependent_var}.csv')\n",
    "result_df.to_csv(csv_filename, index=False)\n",
    "\n",
    "\n",
    "# 그래프 생성\n",
    "plt.figure()\n",
    "plt.plot([y.min(), y.max()], [y.min(), y.max()], 'k-', lw=2)\n",
    "plt.scatter(y, y_pred, color = 'red', alpha=0.5)\n",
    "plt.xlabel(f'Actual values of {dependent_var}')\n",
    "plt.ylabel(f'Predicted values of {dependent_var}')\n",
    "plt.title(f'Model: {independent_var}__{dependent_var}')\n",
    "\n",
    "# R^2 값 그래프에 추가\n",
    "plt.text(x=0.05, y=0.95, s=f'$R^2 = {r2:.4f}$', fontsize=12, ha='left', va='top', transform=plt.gca().transAxes)\n",
    "plt.text(x=0.05, y=0.90, s=f'MAE = {mae2:.4f} (kcal/mol)', fontsize=12, ha='left', va='top', transform=plt.gca().transAxes)\n",
    "plt.text(x=0.05, y=0.85, s=f'RMSE = {rmse2:.4f} (kcal/mol)', fontsize=12, ha='left', va='top', transform=plt.gca().transAxes)\n",
    "\n",
    "# 그래프 이미지 파일로 저장\n",
    "img_filename = sanitize_filename(f'{independent_var}__{dependent_var}.png')\n",
    "plt.savefig(img_filename)\n",
    "plt.close()\n"
   ]
  }
 ],
 "metadata": {
  "kernelspec": {
   "display_name": "base",
   "language": "python",
   "name": "python3"
  },
  "language_info": {
   "codemirror_mode": {
    "name": "ipython",
    "version": 3
   },
   "file_extension": ".py",
   "mimetype": "text/x-python",
   "name": "python",
   "nbconvert_exporter": "python",
   "pygments_lexer": "ipython3",
   "version": "3.12.4"
  }
 },
 "nbformat": 4,
 "nbformat_minor": 2
}
