{
 "cells": [
  {
   "cell_type": "code",
   "execution_count": 3,
   "metadata": {},
   "outputs": [],
   "source": [
    "import pandas as pd\n",
    "import numpy as np\n",
    "from sklearn.linear_model import LinearRegression\n",
    "from sklearn.metrics import r2_score\n",
    "from sklearn.metrics import mean_absolute_error as MAE\n",
    "from sklearn.metrics import mean_squared_error as MSE\n",
    "import matplotlib.pyplot as plt\n",
    "import re\n",
    "\n",
    "# CSV 파일에서 데이터 로드\n",
    "file_path = '20240703_correlation_copy.csv'\n",
    "df = pd.read_csv(file_path)"
   ]
  },
  {
   "cell_type": "code",
   "execution_count": 25,
   "metadata": {},
   "outputs": [
    {
     "name": "stdout",
     "output_type": "stream",
     "text": [
      "9.152405944652418\n"
     ]
    }
   ],
   "source": [
    "# 결측값 제거\n",
    "valid_data = df[['adiabatic_S1-S0 (kcal/mol)', 'vertical_excitation_energy (eV)', 'dipole_moment_norm_S1 (D)', 'dipole_moment_norm_T1 (D)', '0-0_T1 (eV)', 'reduction_S0 (kcal/mol)']].dropna()\n",
    "\n",
    "# 독립 변수와 종속 변수 업데이트 (결측값 제거된 데이터 사용)\n",
    "X = valid_data[['vertical_excitation_energy (eV)', 'dipole_moment_norm_S1 (D)', 'dipole_moment_norm_T1 (D)', '0-0_T1 (eV)', 'reduction_S0 (kcal/mol)']]\n",
    "y = valid_data['adiabatic_S1-S0 (kcal/mol)']\n",
    "\n",
    "std_dev = y.std(ddof=0)\n",
    "std_dev2 = y.std(ddof=0)*23.06\n",
    "print(std_dev)\n",
    "\n",
    "model = LinearRegression()\n",
    "model.fit(X, y)\n",
    "\n",
    "y_pred = model.predict(X)\n",
    "\n",
    "r2 = r2_score(y, y_pred)\n",
    "mae = MAE(y, y_pred)\n",
    "mae2 = MAE(y, y_pred)*23.06\n",
    "rmse = np.sqrt(MSE(y, y_pred))\n",
    "rmse2 = np.sqrt(MSE(y, y_pred))*23.06\n",
    "\n",
    "# 실제 값과 예측치 저장\n",
    "result_df = pd.DataFrame({\n",
    "    'Real': y,\n",
    "    'Predict': y_pred\n",
    "})\n",
    "\n",
    "# 파일 이름에서 유효하지 않은 문자 제거\n",
    "def sanitize_filename(filename):\n",
    "    return re.sub(r'[\\\\/*?:\"<>|]', \"_\", filename)\n",
    "\n",
    "csv_filename = sanitize_filename('Multiple Regression Adiabatic.csv')\n",
    "result_df.to_csv(csv_filename, index=False)\n",
    "\n",
    "\n",
    "# 그래프 생성\n",
    "plt.figure()\n",
    "plt.plot([y.min(), y.max()], [y.min(), y.max()], 'k-', lw=2)\n",
    "plt.scatter(y, y_pred, color = 'red', alpha=0.5)\n",
    "plt.xlabel(f'Actual values of adiabatic_S1-S0 (kcal/mol)')\n",
    "plt.ylabel(f'Predicted values of adiabatic_S1-S0 (kcal/mol)')\n",
    "plt.title('Parity Plot of adiabatic_S1-S0 (kcal/mol)')\n",
    "\n",
    "# R^2 값 그래프에 추가\n",
    "plt.text(x=0.05, y=0.95, s=f'$R^2 = {r2:.4f}$', fontsize=12, ha='left', va='top', transform=plt.gca().transAxes)\n",
    "plt.text(x=0.05, y=0.90, s=f'MAE = {mae:.4f} (kcal/mol)', fontsize=12, ha='left', va='top', transform=plt.gca().transAxes)\n",
    "plt.text(x=0.05, y=0.85, s=f'RMSE = {rmse:.4f} (kcal/mol)', fontsize=12, ha='left', va='top', transform=plt.gca().transAxes)\n",
    "\n",
    "# 그래프 이미지 파일로 저장\n",
    "img_filename = sanitize_filename('Multiple Regression Adiabatic.png')\n",
    "plt.savefig(img_filename)\n",
    "plt.close()\n"
   ]
  },
  {
   "cell_type": "code",
   "execution_count": 23,
   "metadata": {},
   "outputs": [
    {
     "name": "stdout",
     "output_type": "stream",
     "text": [
      "6.325547264995044\n"
     ]
    }
   ],
   "source": [
    "# 결측값 제거\n",
    "valid_data = df[['reduction_S0 (kcal/mol)', 'homo (eV)', '0-0_S1 (eV)', 'adiabatic_T1-S0 (kcal/mol)']].dropna()\n",
    "\n",
    "# 독립 변수와 종속 변수 업데이트 (결측값 제거된 데이터 사용)\n",
    "y = valid_data['reduction_S0 (kcal/mol)']\n",
    "X = valid_data[['homo (eV)', '0-0_S1 (eV)', 'adiabatic_T1-S0 (kcal/mol)']]\n",
    "\n",
    "std_dev = y.std(ddof=0)\n",
    "std_dev2 = y.std(ddof=0)*23.06\n",
    "print(std_dev)\n",
    "\n",
    "model = LinearRegression()\n",
    "model.fit(X, y)\n",
    "\n",
    "y_pred = model.predict(X)\n",
    "\n",
    "r2 = r2_score(y, y_pred)\n",
    "mae = MAE(y, y_pred)\n",
    "mae2 = MAE(y, y_pred)*23.06\n",
    "rmse = np.sqrt(MSE(y, y_pred))\n",
    "rmse2 = np.sqrt(MSE(y, y_pred))*23.06\n",
    "\n",
    "# 실제 값과 예측치 저장\n",
    "result_df = pd.DataFrame({\n",
    "    'Real': y,\n",
    "    'Predict': y_pred\n",
    "})\n",
    "\n",
    "# 파일 이름에서 유효하지 않은 문자 제거\n",
    "def sanitize_filename(filename):\n",
    "    return re.sub(r'[\\\\/*?:\"<>|]', \"_\", filename)\n",
    "\n",
    "csv_filename = sanitize_filename('Multiple Regression Reduction.csv')\n",
    "result_df.to_csv(csv_filename, index=False)\n",
    "\n",
    "\n",
    "# 그래프 생성\n",
    "plt.figure()\n",
    "plt.plot([y.min(), y.max()], [y.min(), y.max()], 'k-', lw=2)\n",
    "plt.scatter(y, y_pred, color = 'red', alpha=0.5)\n",
    "plt.xlabel(f'Actual values of reduction_S0 (kcal/mol)')\n",
    "plt.ylabel(f'Predicted values of reduction_S0 (kcal/mol)')\n",
    "plt.title('Parity Plot of reduction_S0 (kcal/mol)')\n",
    "\n",
    "# R^2 값 그래프에 추가\n",
    "plt.text(x=0.05, y=0.95, s=f'$R^2 = {r2:.4f}$', fontsize=12, ha='left', va='top', transform=plt.gca().transAxes)\n",
    "plt.text(x=0.05, y=0.90, s=f'MAE = {mae:.4f} (kcal/mol)', fontsize=12, ha='left', va='top', transform=plt.gca().transAxes)\n",
    "plt.text(x=0.05, y=0.85, s=f'RMSE = {rmse:.4f} (kcal/mol)', fontsize=12, ha='left', va='top', transform=plt.gca().transAxes)\n",
    "\n",
    "# 그래프 이미지 파일로 저장\n",
    "img_filename = sanitize_filename('Multiple Regression Reduction.png')\n",
    "plt.savefig(img_filename)\n",
    "plt.close()\n"
   ]
  },
  {
   "cell_type": "code",
   "execution_count": 24,
   "metadata": {},
   "outputs": [
    {
     "name": "stdout",
     "output_type": "stream",
     "text": [
      "15.161931325309032\n"
     ]
    }
   ],
   "source": [
    "# 결측값 제거\n",
    "valid_data = df[['oxidation_S0 (kcal/mol)', 'lumo (eV)', 'dipole_moment_norm_S1 (D)', 'dipole_moment_norm_T1 (D)', '0-0_S1 (eV)', 'adiabatic_T1-S0 (kcal/mol)']].dropna()\n",
    "\n",
    "# 독립 변수와 종속 변수 업데이트 (결측값 제거된 데이터 사용)\n",
    "y = valid_data['oxidation_S0 (kcal/mol)']\n",
    "X = valid_data[['lumo (eV)', 'dipole_moment_norm_S1 (D)', 'dipole_moment_norm_T1 (D)', '0-0_S1 (eV)', 'adiabatic_T1-S0 (kcal/mol)']]\n",
    "\n",
    "std_dev = y.std(ddof=0)\n",
    "std_dev2 = y.std(ddof=0)*23.06\n",
    "print(std_dev)\n",
    "\n",
    "model = LinearRegression()\n",
    "model.fit(X, y)\n",
    "\n",
    "y_pred = model.predict(X)\n",
    "\n",
    "r2 = r2_score(y, y_pred)\n",
    "mae = MAE(y, y_pred)\n",
    "mae2 = MAE(y, y_pred)*23.06\n",
    "rmse = np.sqrt(MSE(y, y_pred))\n",
    "rmse2 = np.sqrt(MSE(y, y_pred))*23.06\n",
    "\n",
    "# 실제 값과 예측치 저장\n",
    "result_df = pd.DataFrame({\n",
    "    'Real': y,\n",
    "    'Predict': y_pred\n",
    "})\n",
    "\n",
    "# 파일 이름에서 유효하지 않은 문자 제거\n",
    "def sanitize_filename(filename):\n",
    "    return re.sub(r'[\\\\/*?:\"<>|]', \"_\", filename)\n",
    "\n",
    "csv_filename = sanitize_filename('Multiple Regression Oxidation.csv')\n",
    "result_df.to_csv(csv_filename, index=False)\n",
    "\n",
    "\n",
    "# 그래프 생성\n",
    "plt.figure()\n",
    "plt.plot([y.min(), y.max()], [y.min(), y.max()], 'k-', lw=2)\n",
    "plt.scatter(y, y_pred, color = 'red', alpha=0.5)\n",
    "plt.xlabel(f'Actual values of oxidation_S0 (kcal/mol)')\n",
    "plt.ylabel(f'Predicted values of oxidation_S0 (kcal/mol)')\n",
    "plt.title('Parity Plot of oxidation_S0 (kcal/mol)')\n",
    "\n",
    "# R^2 값 그래프에 추가\n",
    "plt.text(x=0.05, y=0.95, s=f'$R^2 = {r2:.4f}$', fontsize=12, ha='left', va='top', transform=plt.gca().transAxes)\n",
    "plt.text(x=0.05, y=0.90, s=f'MAE = {mae:.4f} (kcal/mol)', fontsize=12, ha='left', va='top', transform=plt.gca().transAxes)\n",
    "plt.text(x=0.05, y=0.85, s=f'RMSE = {rmse:.4f} (kcal/mol)', fontsize=12, ha='left', va='top', transform=plt.gca().transAxes)\n",
    "\n",
    "# 그래프 이미지 파일로 저장\n",
    "img_filename = sanitize_filename('Multiple Regression Oxidation.png')\n",
    "plt.savefig(img_filename)\n",
    "plt.close()\n"
   ]
  },
  {
   "cell_type": "code",
   "execution_count": 21,
   "metadata": {},
   "outputs": [
    {
     "name": "stdout",
     "output_type": "stream",
     "text": [
      "dipole_moment_norm_S0 (D)    3.89232\n",
      "dtype: float64\n"
     ]
    }
   ],
   "source": [
    "# 결측값 제거\n",
    "valid_data = df[['dipole_moment_norm_S0 (D)']].dropna()\n",
    "\n",
    "std_dev = valid_data.std(ddof=0)\n",
    "std_dev2 = valid_data.std(ddof=0)*23.06\n",
    "print(std_dev)"
   ]
  }
 ],
 "metadata": {
  "kernelspec": {
   "display_name": "base",
   "language": "python",
   "name": "python3"
  },
  "language_info": {
   "codemirror_mode": {
    "name": "ipython",
    "version": 3
   },
   "file_extension": ".py",
   "mimetype": "text/x-python",
   "name": "python",
   "nbconvert_exporter": "python",
   "pygments_lexer": "ipython3",
   "version": "3.12.4"
  }
 },
 "nbformat": 4,
 "nbformat_minor": 2
}
